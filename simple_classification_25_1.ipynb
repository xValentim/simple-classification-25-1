{
 "cells": [
  {
   "cell_type": "markdown",
   "metadata": {},
   "source": [
    "# Projeto de Classificação\n",
    "\n",
    "## O que é Classificação?\n",
    "\n",
    "Em problemas de classificação, o objetivo é categorizar dados em classes distintas. Dado um conjunto de características (ou features), o modelo é treinado para identificar a qual classe uma nova instância de dados pertence. Por exemplo, no contexto de análise de crédito, um modelo de classificação pode prever se um cliente é um \"bom\" ou \"mau\" pagador com base em suas características financeiras. Imagina também um e-mail que chegou na sua caixa de entrada; poderia ele ser categorizado como Spam ou não? \n",
    "\n",
    "# Outline\n",
    "- [1 - Dependências](#1)\n",
    "- [2 - Titanic Dataset](#2)\n",
    "- [3 - Aquisição e Checagem dos Dados](#3)\n",
    "- [4 - Preparação dos Dados e Leve Análise Exploratória](#4)\n",
    "- [5 - Pré-Processamento](#5)\n",
    "- [6 - Treinamento e Avaliação](#6)\n"
   ]
  },
  {
   "cell_type": "markdown",
   "metadata": {},
   "source": [
    "<a id=\"1\"></a>\n",
    "## 1 - Dependências"
   ]
  },
  {
   "cell_type": "code",
   "execution_count": 1,
   "metadata": {},
   "outputs": [],
   "source": [
    "# geral\n",
    "import pandas as pd \n",
    "import numpy as np\n",
    "import matplotlib.pyplot as plt\n",
    "import seaborn as sns\n",
    "\n",
    "# scikit-learn\n",
    "from sklearn.preprocessing import StandardScaler\n",
    "from sklearn.linear_model import LogisticRegression"
   ]
  },
  {
   "cell_type": "markdown",
   "metadata": {},
   "source": [
    "<a id=\"2\"></a>\n",
    "## 2 - Titanic Dataset\n",
    "\n",
    "O Titanic Dataset é um conjunto de dados amplamente conhecido, utilizado para resolver um problema de **classificação binária**: prever a sobrevivência dos passageiros do Titanic com base em diversas características pessoais. O objetivo é treinar um modelo capaz de identificar, dado um novo passageiro, se ele teria ou não sobrevivido ao naufrágio do Titanic em 1912. \n",
    "\n",
    "Este dataset foi criado a partir do desastre real do RMS Titanic, que afundou em sua viagem inaugural em 15 de abril de 1912, após colidir com um iceberg. Dos 2.224 passageiros e tripulantes a bordo, apenas 32% sobreviveram. A falta de botes salva-vidas para todos foi um dos principais motivos para a grande perda de vidas. Embora o fator sorte tenha desempenhado um papel, certos grupos de pessoas tinham mais chances de sobreviver, como mulheres, crianças e membros da classe alta.\n",
    "\n",
    "### Definição do Problema\n",
    "\n",
    "Nosso objetivo é usar o conjunto de dados de treino fornecido para construir um modelo que possa prever a sobrevivência dos passageiros presentes no conjunto de teste. A variável-alvo (ou variável dependente) é `Survived`, que indica se o passageiro sobreviveu (1) ou não (0). As demais variáveis serão tratadas como potenciais preditoras para essa classificação.\n",
    "\n",
    "### Entendendo as Variáveis\n",
    "\n",
    "Para entender melhor as variáveis do Titanic Dataset, vejamos algumas descrições detalhadas:\n",
    "\n",
    "- **Survived**: Esta é a variável dependente ou alvo do nosso modelo. Ela indica a sobrevivência do passageiro, sendo 1 para sobreviventes e 0 para não sobreviventes. Trata-se de uma variável binária e nominal.\n",
    "- **PassengerID** e **Ticket**: São identificadores únicos para cada passageiro, assumidos como aleatórios e sem impacto direto na sobrevivência.\n",
    "- **Pclass**: Representa a classe do ticket, que é um dado ordinal e serve como um proxy para o status socioeconômico do passageiro. A classe 1 representa a classe alta, 2 a classe média e 3 a classe baixa.\n",
    "- **Name**: Nome do passageiro, uma variável nominal. Ela pode ser usada para engenharia de atributos, derivando informações como gênero (a partir do título), tamanho da família (a partir do sobrenome), e status socioeconômico (a partir de títulos como \"Dr.\" ou \"Master\").\n",
    "- **Sex** e **Embarked**: Variáveis nominais que indicam o sexo do passageiro e o porto de embarque.\n",
    "- **Age** e **Fare**: Variáveis quantitativas contínuas, representando a idade do passageiro e o preço do ticket, respectivamente.\n",
    "- **SibSp** e **Parch**: Representam o número de irmãos/cônjuges e pais/filhos a bordo, respectivamente.\n",
    "- **Cabin**: Indica a cabine do passageiro, uma variável nominal que pode ser usada para inferir a posição aproximada no navio e até mesmo o status socioeconômico, com base no nível do deck.\n",
    "\n",
    "### Análise Inicial do Problema\n",
    "\n",
    "O conjunto de dados de treino permite observar quais características (features) dos passageiros estão mais correlacionadas com a sobrevivência. O objetivo final é construir um modelo que consiga identificar corretamente as chances de sobrevivência com base nas características fornecidas para cada passageiro no conjunto de teste."
   ]
  },
  {
   "cell_type": "markdown",
   "metadata": {},
   "source": [
    "<a id=\"3\"></a>\n",
    "## 3 - Aquisição e Checagem dos Dados"
   ]
  },
  {
   "cell_type": "code",
   "execution_count": 2,
   "metadata": {},
   "outputs": [],
   "source": [
    "train_df = pd.read_csv(\"data/train.csv\")\n",
    "test_df = pd.read_csv(\"data/test.csv\")\n",
    "labels = pd.read_csv(\"./data/gender_submission.csv\")\n",
    "\n",
    "test_df = test_df.join(labels.set_index('PassengerId'), on='PassengerId', rsuffix='_label')\n",
    "combine = [train_df, test_df]"
   ]
  },
  {
   "cell_type": "code",
   "execution_count": 3,
   "metadata": {},
   "outputs": [],
   "source": [
    "def visualize_info_data(combine):\n",
    "    for data in combine:\n",
    "        data.info()\n",
    "        print(\"-\"*30)"
   ]
  },
  {
   "cell_type": "code",
   "execution_count": 4,
   "metadata": {},
   "outputs": [
    {
     "data": {
      "text/html": [
       "<div>\n",
       "<style scoped>\n",
       "    .dataframe tbody tr th:only-of-type {\n",
       "        vertical-align: middle;\n",
       "    }\n",
       "\n",
       "    .dataframe tbody tr th {\n",
       "        vertical-align: top;\n",
       "    }\n",
       "\n",
       "    .dataframe thead th {\n",
       "        text-align: right;\n",
       "    }\n",
       "</style>\n",
       "<table border=\"1\" class=\"dataframe\">\n",
       "  <thead>\n",
       "    <tr style=\"text-align: right;\">\n",
       "      <th></th>\n",
       "      <th>PassengerId</th>\n",
       "      <th>Survived</th>\n",
       "      <th>Pclass</th>\n",
       "      <th>Name</th>\n",
       "      <th>Sex</th>\n",
       "      <th>Age</th>\n",
       "      <th>SibSp</th>\n",
       "      <th>Parch</th>\n",
       "      <th>Ticket</th>\n",
       "      <th>Fare</th>\n",
       "      <th>Cabin</th>\n",
       "      <th>Embarked</th>\n",
       "    </tr>\n",
       "  </thead>\n",
       "  <tbody>\n",
       "    <tr>\n",
       "      <th>0</th>\n",
       "      <td>1</td>\n",
       "      <td>0</td>\n",
       "      <td>3</td>\n",
       "      <td>Braund, Mr. Owen Harris</td>\n",
       "      <td>male</td>\n",
       "      <td>22.0</td>\n",
       "      <td>1</td>\n",
       "      <td>0</td>\n",
       "      <td>A/5 21171</td>\n",
       "      <td>7.2500</td>\n",
       "      <td>NaN</td>\n",
       "      <td>S</td>\n",
       "    </tr>\n",
       "    <tr>\n",
       "      <th>1</th>\n",
       "      <td>2</td>\n",
       "      <td>1</td>\n",
       "      <td>1</td>\n",
       "      <td>Cumings, Mrs. John Bradley (Florence Briggs Th...</td>\n",
       "      <td>female</td>\n",
       "      <td>38.0</td>\n",
       "      <td>1</td>\n",
       "      <td>0</td>\n",
       "      <td>PC 17599</td>\n",
       "      <td>71.2833</td>\n",
       "      <td>C85</td>\n",
       "      <td>C</td>\n",
       "    </tr>\n",
       "    <tr>\n",
       "      <th>2</th>\n",
       "      <td>3</td>\n",
       "      <td>1</td>\n",
       "      <td>3</td>\n",
       "      <td>Heikkinen, Miss. Laina</td>\n",
       "      <td>female</td>\n",
       "      <td>26.0</td>\n",
       "      <td>0</td>\n",
       "      <td>0</td>\n",
       "      <td>STON/O2. 3101282</td>\n",
       "      <td>7.9250</td>\n",
       "      <td>NaN</td>\n",
       "      <td>S</td>\n",
       "    </tr>\n",
       "    <tr>\n",
       "      <th>3</th>\n",
       "      <td>4</td>\n",
       "      <td>1</td>\n",
       "      <td>1</td>\n",
       "      <td>Futrelle, Mrs. Jacques Heath (Lily May Peel)</td>\n",
       "      <td>female</td>\n",
       "      <td>35.0</td>\n",
       "      <td>1</td>\n",
       "      <td>0</td>\n",
       "      <td>113803</td>\n",
       "      <td>53.1000</td>\n",
       "      <td>C123</td>\n",
       "      <td>S</td>\n",
       "    </tr>\n",
       "    <tr>\n",
       "      <th>4</th>\n",
       "      <td>5</td>\n",
       "      <td>0</td>\n",
       "      <td>3</td>\n",
       "      <td>Allen, Mr. William Henry</td>\n",
       "      <td>male</td>\n",
       "      <td>35.0</td>\n",
       "      <td>0</td>\n",
       "      <td>0</td>\n",
       "      <td>373450</td>\n",
       "      <td>8.0500</td>\n",
       "      <td>NaN</td>\n",
       "      <td>S</td>\n",
       "    </tr>\n",
       "  </tbody>\n",
       "</table>\n",
       "</div>"
      ],
      "text/plain": [
       "   PassengerId  Survived  Pclass  \\\n",
       "0            1         0       3   \n",
       "1            2         1       1   \n",
       "2            3         1       3   \n",
       "3            4         1       1   \n",
       "4            5         0       3   \n",
       "\n",
       "                                                Name     Sex   Age  SibSp  \\\n",
       "0                            Braund, Mr. Owen Harris    male  22.0      1   \n",
       "1  Cumings, Mrs. John Bradley (Florence Briggs Th...  female  38.0      1   \n",
       "2                             Heikkinen, Miss. Laina  female  26.0      0   \n",
       "3       Futrelle, Mrs. Jacques Heath (Lily May Peel)  female  35.0      1   \n",
       "4                           Allen, Mr. William Henry    male  35.0      0   \n",
       "\n",
       "   Parch            Ticket     Fare Cabin Embarked  \n",
       "0      0         A/5 21171   7.2500   NaN        S  \n",
       "1      0          PC 17599  71.2833   C85        C  \n",
       "2      0  STON/O2. 3101282   7.9250   NaN        S  \n",
       "3      0            113803  53.1000  C123        S  \n",
       "4      0            373450   8.0500   NaN        S  "
      ]
     },
     "execution_count": 4,
     "metadata": {},
     "output_type": "execute_result"
    }
   ],
   "source": [
    "train_df.head()"
   ]
  },
  {
   "cell_type": "code",
   "execution_count": 5,
   "metadata": {},
   "outputs": [
    {
     "name": "stdout",
     "output_type": "stream",
     "text": [
      "<class 'pandas.core.frame.DataFrame'>\n",
      "RangeIndex: 891 entries, 0 to 890\n",
      "Data columns (total 12 columns):\n",
      " #   Column       Non-Null Count  Dtype  \n",
      "---  ------       --------------  -----  \n",
      " 0   PassengerId  891 non-null    int64  \n",
      " 1   Survived     891 non-null    int64  \n",
      " 2   Pclass       891 non-null    int64  \n",
      " 3   Name         891 non-null    object \n",
      " 4   Sex          891 non-null    object \n",
      " 5   Age          714 non-null    float64\n",
      " 6   SibSp        891 non-null    int64  \n",
      " 7   Parch        891 non-null    int64  \n",
      " 8   Ticket       891 non-null    object \n",
      " 9   Fare         891 non-null    float64\n",
      " 10  Cabin        204 non-null    object \n",
      " 11  Embarked     889 non-null    object \n",
      "dtypes: float64(2), int64(5), object(5)\n",
      "memory usage: 83.7+ KB\n",
      "------------------------------\n",
      "<class 'pandas.core.frame.DataFrame'>\n",
      "RangeIndex: 418 entries, 0 to 417\n",
      "Data columns (total 12 columns):\n",
      " #   Column       Non-Null Count  Dtype  \n",
      "---  ------       --------------  -----  \n",
      " 0   PassengerId  418 non-null    int64  \n",
      " 1   Pclass       418 non-null    int64  \n",
      " 2   Name         418 non-null    object \n",
      " 3   Sex          418 non-null    object \n",
      " 4   Age          332 non-null    float64\n",
      " 5   SibSp        418 non-null    int64  \n",
      " 6   Parch        418 non-null    int64  \n",
      " 7   Ticket       418 non-null    object \n",
      " 8   Fare         417 non-null    float64\n",
      " 9   Cabin        91 non-null     object \n",
      " 10  Embarked     418 non-null    object \n",
      " 11  Survived     418 non-null    int64  \n",
      "dtypes: float64(2), int64(5), object(5)\n",
      "memory usage: 39.3+ KB\n",
      "------------------------------\n"
     ]
    }
   ],
   "source": [
    "visualize_info_data(combine)"
   ]
  },
  {
   "cell_type": "markdown",
   "metadata": {},
   "source": [
    "**Quais features são categóricas?**\n",
    "\n",
    "Esses valores classificam as amostras em conjuntos de amostras semelhantes. Dentro das features categóricas, os valores são nominais, ordinais, proporcionais (ratio) ou intervalares? Entre outras coisas, isso nos ajuda a selecionar os gráficos apropriados para visualização.\n",
    "\n",
    "**Categóricas:** Survived, Sex e Embarked. **Ordinal:** Pclass.\n",
    "\n",
    "**Quais features são numéricas?**\n",
    "\n",
    "Esses valores mudam de amostra para amostra. Dentro das features numéricas, os valores são discretos, contínuos ou baseados em séries temporais? Entre outras coisas, isso nos ajuda a selecionar os gráficos apropriados para visualização.\n",
    "\n",
    "**Contínuas:** Age, Fare. **Discretas:** SibSp, Parch."
   ]
  },
  {
   "cell_type": "markdown",
   "metadata": {},
   "source": [
    "<a id=\"4\"></a>\n",
    "## 4 - Preparação dos Dados e Leve Análise Exploratória"
   ]
  },
  {
   "cell_type": "markdown",
   "metadata": {},
   "source": [
    "Das informações dos Dataframes, nós conseguimos ver que há algumas colunas com valores **nulos**, seja no de treino, seja no de teste. Assim, vamos dar uma olhada nessas colunas."
   ]
  },
  {
   "cell_type": "code",
   "execution_count": 6,
   "metadata": {},
   "outputs": [
    {
     "name": "stdout",
     "output_type": "stream",
     "text": [
      "Colunas de Treinamento com valores nulos:\n",
      " PassengerId      0\n",
      "Survived         0\n",
      "Pclass           0\n",
      "Name             0\n",
      "Sex              0\n",
      "Age            177\n",
      "SibSp            0\n",
      "Parch            0\n",
      "Ticket           0\n",
      "Fare             0\n",
      "Cabin          687\n",
      "Embarked         2\n",
      "dtype: int64\n",
      "------------------------------\n",
      "Colunas de Teste com valores nulos:\n",
      " PassengerId      0\n",
      "Pclass           0\n",
      "Name             0\n",
      "Sex              0\n",
      "Age             86\n",
      "SibSp            0\n",
      "Parch            0\n",
      "Ticket           0\n",
      "Fare             1\n",
      "Cabin          327\n",
      "Embarked         0\n",
      "Survived         0\n",
      "dtype: int64\n",
      "------------------------------\n"
     ]
    }
   ],
   "source": [
    "print('Colunas de Treinamento com valores nulos:\\n', train_df.isnull().sum())\n",
    "print(\"-\"*30)\n",
    "\n",
    "print('Colunas de Teste com valores nulos:\\n', test_df.isnull().sum())\n",
    "print(\"-\"*30)"
   ]
  },
  {
   "cell_type": "markdown",
   "metadata": {},
   "source": [
    "#### Tratando valores nulos\n",
    "\n",
    "Primeiramente, dê uma olhada na variável `Cabin`. Vamos dar uma olhada na porcentagem da quantidade de dados nulos em relação ao total."
   ]
  },
  {
   "cell_type": "code",
   "execution_count": 7,
   "metadata": {},
   "outputs": [
    {
     "name": "stdout",
     "output_type": "stream",
     "text": [
      "Esta é a porcentagem de valores nulos na coluna 'Cabin' no conjunto de treino: 77.10%\n",
      "Esta é a porcentagem de valores nulos na coluna 'Cabin' no conjunto de teste: 78.23%\n"
     ]
    }
   ],
   "source": [
    "print(f\"Esta é a porcentagem de valores nulos na coluna 'Cabin' no conjunto de treino: {int(train_df.isnull().sum()['Cabin'])/len(train_df)*100:.2f}%\")\n",
    "print(f\"Esta é a porcentagem de valores nulos na coluna 'Cabin' no conjunto de teste: {int(test_df.isnull().sum()['Cabin'])/len(test_df)*100:.2f}%\")"
   ]
  },
  {
   "cell_type": "markdown",
   "metadata": {},
   "source": [
    "É uma porcentagem realmente alta. Nesse sentido, os dados pertencentes a essa feature não agregarão valor. Com isso, vamos dropar dos datasets."
   ]
  },
  {
   "cell_type": "code",
   "execution_count": 8,
   "metadata": {},
   "outputs": [],
   "source": [
    "train_df.drop(['Cabin'], axis=1, inplace = True)\n",
    "test_df.drop(['Cabin'], axis=1, inplace = True)\n",
    "combine = [train_df, test_df]"
   ]
  },
  {
   "cell_type": "code",
   "execution_count": 9,
   "metadata": {},
   "outputs": [
    {
     "data": {
      "text/plain": [
       "Index(['PassengerId', 'Survived', 'Pclass', 'Name', 'Sex', 'Age', 'SibSp',\n",
       "       'Parch', 'Ticket', 'Fare', 'Embarked'],\n",
       "      dtype='object')"
      ]
     },
     "execution_count": 9,
     "metadata": {},
     "output_type": "execute_result"
    }
   ],
   "source": [
    "train_df.columns"
   ]
  },
  {
   "cell_type": "code",
   "execution_count": 10,
   "metadata": {},
   "outputs": [
    {
     "data": {
      "text/plain": [
       "Index(['PassengerId', 'Pclass', 'Name', 'Sex', 'Age', 'SibSp', 'Parch',\n",
       "       'Ticket', 'Fare', 'Embarked', 'Survived'],\n",
       "      dtype='object')"
      ]
     },
     "execution_count": 10,
     "metadata": {},
     "output_type": "execute_result"
    }
   ],
   "source": [
    "test_df.columns"
   ]
  },
  {
   "cell_type": "code",
   "execution_count": 11,
   "metadata": {},
   "outputs": [
    {
     "name": "stdout",
     "output_type": "stream",
     "text": [
      "Colunas de Treinamento com valores nulos:\n",
      " PassengerId      0\n",
      "Survived         0\n",
      "Pclass           0\n",
      "Name             0\n",
      "Sex              0\n",
      "Age            177\n",
      "SibSp            0\n",
      "Parch            0\n",
      "Ticket           0\n",
      "Fare             0\n",
      "Embarked         2\n",
      "dtype: int64\n",
      "------------------------------\n",
      "Colunas de Teste com valores nulos:\n",
      " PassengerId     0\n",
      "Pclass          0\n",
      "Name            0\n",
      "Sex             0\n",
      "Age            86\n",
      "SibSp           0\n",
      "Parch           0\n",
      "Ticket          0\n",
      "Fare            1\n",
      "Embarked        0\n",
      "Survived        0\n",
      "dtype: int64\n",
      "------------------------------\n"
     ]
    }
   ],
   "source": [
    "print('Colunas de Treinamento com valores nulos:\\n', train_df.isnull().sum())\n",
    "print(\"-\"*30)\n",
    "\n",
    "print('Colunas de Teste com valores nulos:\\n', test_df.isnull().sum())\n",
    "print(\"-\"*30)"
   ]
  },
  {
   "cell_type": "markdown",
   "metadata": {},
   "source": [
    "Agora, primeiramente no conjunto de treino, nós podemos observar que as colunas `Age` e `Embarked` possuem valores nulos, mas como a porcentagem em relação ao total é desprezível (praticamente) entendemos que elas podem, de fato, agregar valor para a predição.\n",
    "\n",
    "Dado as características das features, faria sentido tomarmos a **média** para completarmos a coluna `Age` e utilizar a **moda** para completarmos a coluna `Embarked`."
   ]
  },
  {
   "cell_type": "code",
   "execution_count": 12,
   "metadata": {},
   "outputs": [],
   "source": [
    "# completando valores nulos de Age com média\n",
    "train_df.fillna({'Age': train_df['Age'].median()}, inplace = True)\n",
    "\n",
    "# completando valores nulos de Embarked com moda\n",
    "train_df.fillna({'Embarked': train_df['Embarked'].mode()[0]}, inplace = True)"
   ]
  },
  {
   "cell_type": "code",
   "execution_count": 13,
   "metadata": {},
   "outputs": [
    {
     "name": "stdout",
     "output_type": "stream",
     "text": [
      "<class 'pandas.core.frame.DataFrame'>\n",
      "RangeIndex: 891 entries, 0 to 890\n",
      "Data columns (total 11 columns):\n",
      " #   Column       Non-Null Count  Dtype  \n",
      "---  ------       --------------  -----  \n",
      " 0   PassengerId  891 non-null    int64  \n",
      " 1   Survived     891 non-null    int64  \n",
      " 2   Pclass       891 non-null    int64  \n",
      " 3   Name         891 non-null    object \n",
      " 4   Sex          891 non-null    object \n",
      " 5   Age          891 non-null    float64\n",
      " 6   SibSp        891 non-null    int64  \n",
      " 7   Parch        891 non-null    int64  \n",
      " 8   Ticket       891 non-null    object \n",
      " 9   Fare         891 non-null    float64\n",
      " 10  Embarked     891 non-null    object \n",
      "dtypes: float64(2), int64(5), object(4)\n",
      "memory usage: 76.7+ KB\n"
     ]
    }
   ],
   "source": [
    "train_df.info()"
   ]
  },
  {
   "cell_type": "markdown",
   "metadata": {},
   "source": [
    "No que tange ao conjunto de teste, nós podemos observar que as colunas `Age` e `Fare` possuem valores nulos, mas como a porcentagem em relação ao total também é desprezível (praticamente), entendemos que elas podem, de fato, agregar valor para a predição.\n",
    "\n",
    "Dado as características das features, faria sentido tomarmos a **média** para completarmos ambas as colunas."
   ]
  },
  {
   "cell_type": "code",
   "execution_count": 14,
   "metadata": {},
   "outputs": [],
   "source": [
    "# completando valores nulos de Age com média\n",
    "test_df.fillna({'Age': test_df['Age'].median()}, inplace = True)\n",
    "\n",
    "# completando valores nulos de Fare com média\n",
    "test_df.fillna({'Fare': test_df['Fare'].median()}, inplace = True)"
   ]
  },
  {
   "cell_type": "code",
   "execution_count": 15,
   "metadata": {},
   "outputs": [
    {
     "name": "stdout",
     "output_type": "stream",
     "text": [
      "<class 'pandas.core.frame.DataFrame'>\n",
      "RangeIndex: 418 entries, 0 to 417\n",
      "Data columns (total 11 columns):\n",
      " #   Column       Non-Null Count  Dtype  \n",
      "---  ------       --------------  -----  \n",
      " 0   PassengerId  418 non-null    int64  \n",
      " 1   Pclass       418 non-null    int64  \n",
      " 2   Name         418 non-null    object \n",
      " 3   Sex          418 non-null    object \n",
      " 4   Age          418 non-null    float64\n",
      " 5   SibSp        418 non-null    int64  \n",
      " 6   Parch        418 non-null    int64  \n",
      " 7   Ticket       418 non-null    object \n",
      " 8   Fare         418 non-null    float64\n",
      " 9   Embarked     418 non-null    object \n",
      " 10  Survived     418 non-null    int64  \n",
      "dtypes: float64(2), int64(5), object(4)\n",
      "memory usage: 36.0+ KB\n"
     ]
    }
   ],
   "source": [
    "test_df.info()"
   ]
  },
  {
   "cell_type": "markdown",
   "metadata": {},
   "source": [
    "#### Seleção de features\n",
    "\n",
    "Nesse caso, estarei selecionando features que agregam valor à predição justamente excluindo algumas que temos certeza que não impactarão este resultado final e outras para simplificação do modelo. Neste sentido, pensando em:\n",
    "\n",
    "- **PassengerID** e **Ticket**: como já citados acima, são praticamente identificadores únicos, mas de certa forma aleatórios. Estes recursos, assim, são independentes do evento de sobrevivência.\n",
    "- **Name**: pode ser usado para engenharia de features, mas vamos tratar a priori que também são independentes e únicos para cada indivíduo (para fins de simplificação).\n",
    "\n",
    "Com isso, eu consigo agora excluí-los e ficar com as features restantes."
   ]
  },
  {
   "cell_type": "code",
   "execution_count": 16,
   "metadata": {},
   "outputs": [],
   "source": [
    "train_df.drop(['Ticket', 'Name', 'PassengerId'], axis=1, inplace = True)\n",
    "test_df.drop(['Ticket', 'Name', 'PassengerId'], axis=1, inplace = True)"
   ]
  },
  {
   "cell_type": "code",
   "execution_count": 17,
   "metadata": {},
   "outputs": [
    {
     "data": {
      "text/plain": [
       "Index(['Survived', 'Pclass', 'Sex', 'Age', 'SibSp', 'Parch', 'Fare',\n",
       "       'Embarked'],\n",
       "      dtype='object')"
      ]
     },
     "execution_count": 17,
     "metadata": {},
     "output_type": "execute_result"
    }
   ],
   "source": [
    "train_df.columns"
   ]
  },
  {
   "cell_type": "code",
   "execution_count": 18,
   "metadata": {},
   "outputs": [
    {
     "data": {
      "text/plain": [
       "Index(['Pclass', 'Sex', 'Age', 'SibSp', 'Parch', 'Fare', 'Embarked',\n",
       "       'Survived'],\n",
       "      dtype='object')"
      ]
     },
     "execution_count": 18,
     "metadata": {},
     "output_type": "execute_result"
    }
   ],
   "source": [
    "test_df.columns"
   ]
  },
  {
   "cell_type": "markdown",
   "metadata": {},
   "source": [
    "#### Algumas análises\n",
    "\n",
    "Abaixo, você pode observar que há uma relevante correlação (> 0.5) para quando os passageiros eram da classe 1 (Pclass = 1) e Survived. Isso pode indicar que passageiros de `alta classe` possuiam mais chances de sobreviver."
   ]
  },
  {
   "cell_type": "code",
   "execution_count": 19,
   "metadata": {},
   "outputs": [
    {
     "data": {
      "text/html": [
       "<div>\n",
       "<style scoped>\n",
       "    .dataframe tbody tr th:only-of-type {\n",
       "        vertical-align: middle;\n",
       "    }\n",
       "\n",
       "    .dataframe tbody tr th {\n",
       "        vertical-align: top;\n",
       "    }\n",
       "\n",
       "    .dataframe thead th {\n",
       "        text-align: right;\n",
       "    }\n",
       "</style>\n",
       "<table border=\"1\" class=\"dataframe\">\n",
       "  <thead>\n",
       "    <tr style=\"text-align: right;\">\n",
       "      <th></th>\n",
       "      <th>Pclass</th>\n",
       "      <th>Survived</th>\n",
       "    </tr>\n",
       "  </thead>\n",
       "  <tbody>\n",
       "    <tr>\n",
       "      <th>0</th>\n",
       "      <td>1</td>\n",
       "      <td>0.629630</td>\n",
       "    </tr>\n",
       "    <tr>\n",
       "      <th>1</th>\n",
       "      <td>2</td>\n",
       "      <td>0.472826</td>\n",
       "    </tr>\n",
       "    <tr>\n",
       "      <th>2</th>\n",
       "      <td>3</td>\n",
       "      <td>0.242363</td>\n",
       "    </tr>\n",
       "  </tbody>\n",
       "</table>\n",
       "</div>"
      ],
      "text/plain": [
       "   Pclass  Survived\n",
       "0       1  0.629630\n",
       "1       2  0.472826\n",
       "2       3  0.242363"
      ]
     },
     "execution_count": 19,
     "metadata": {},
     "output_type": "execute_result"
    }
   ],
   "source": [
    "train_df[['Pclass', 'Survived']].groupby(['Pclass'], as_index=False).mean().sort_values(by='Survived', ascending=False)"
   ]
  },
  {
   "cell_type": "markdown",
   "metadata": {},
   "source": [
    "Também podemos perceber que grande parte dos passageiros que sobreviveram eram do sexo `feminino`."
   ]
  },
  {
   "cell_type": "code",
   "execution_count": 20,
   "metadata": {},
   "outputs": [
    {
     "data": {
      "text/html": [
       "<div>\n",
       "<style scoped>\n",
       "    .dataframe tbody tr th:only-of-type {\n",
       "        vertical-align: middle;\n",
       "    }\n",
       "\n",
       "    .dataframe tbody tr th {\n",
       "        vertical-align: top;\n",
       "    }\n",
       "\n",
       "    .dataframe thead th {\n",
       "        text-align: right;\n",
       "    }\n",
       "</style>\n",
       "<table border=\"1\" class=\"dataframe\">\n",
       "  <thead>\n",
       "    <tr style=\"text-align: right;\">\n",
       "      <th></th>\n",
       "      <th>Sex</th>\n",
       "      <th>Survived</th>\n",
       "    </tr>\n",
       "  </thead>\n",
       "  <tbody>\n",
       "    <tr>\n",
       "      <th>0</th>\n",
       "      <td>female</td>\n",
       "      <td>0.742038</td>\n",
       "    </tr>\n",
       "    <tr>\n",
       "      <th>1</th>\n",
       "      <td>male</td>\n",
       "      <td>0.188908</td>\n",
       "    </tr>\n",
       "  </tbody>\n",
       "</table>\n",
       "</div>"
      ],
      "text/plain": [
       "      Sex  Survived\n",
       "0  female  0.742038\n",
       "1    male  0.188908"
      ]
     },
     "execution_count": 20,
     "metadata": {},
     "output_type": "execute_result"
    }
   ],
   "source": [
    "train_df[[\"Sex\", \"Survived\"]].groupby(['Sex'], as_index=False).mean().sort_values(by='Survived', ascending=False)"
   ]
  },
  {
   "cell_type": "markdown",
   "metadata": {},
   "source": [
    "Quanto à idade dos passageiros, note uma coisa:\n",
    "\n",
    "- Bebês (Idade <= 4) tiveram alta taxa de sobrevivência.\n",
    "- Os passageiros mais velhos (Idade = 80) sobreviveram.\n",
    "- Um grande número de jovens/adultos de 15 a 25 anos não sobreviveu.\n",
    "- A maioria dos passageiros está na faixa etária de 15 a 35 anos."
   ]
  },
  {
   "cell_type": "code",
   "execution_count": 21,
   "metadata": {},
   "outputs": [
    {
     "data": {
      "text/plain": [
       "<seaborn.axisgrid.FacetGrid at 0x29bf9937d00>"
      ]
     },
     "execution_count": 21,
     "metadata": {},
     "output_type": "execute_result"
    },
    {
     "data": {
      "image/png": "[encoded data removed]",
      "text/plain": [
       "<Figure size 600x300 with 2 Axes>"
      ]
     },
     "metadata": {},
     "output_type": "display_data"
    }
   ],
   "source": [
    "g = sns.FacetGrid(train_df, col='Survived')\n",
    "g.map(plt.hist, 'Age', bins=20)"
   ]
  },
  {
   "cell_type": "markdown",
   "metadata": {},
   "source": [
    "Além disso, vamos dar uma olhada nas distribuições das variáveis numéricas que temos:"
   ]
  },
  {
   "cell_type": "code",
   "execution_count": 22,
   "metadata": {},
   "outputs": [
    {
     "data": {
      "image/png": "[encoded data removed]",
      "text/plain": [
       "<Figure size 1000x500 with 2 Axes>"
      ]
     },
     "metadata": {},
     "output_type": "display_data"
    }
   ],
   "source": [
    "# Exemplo para duas variáveis\n",
    "plt.figure(figsize=(10, 5))\n",
    "\n",
    "plt.subplot(2, 2, 1)\n",
    "sns.histplot(train_df['Age'], kde=True)\n",
    "plt.title('Distribuição de Age')\n",
    "\n",
    "plt.subplot(2, 2, 2)\n",
    "sns.histplot(train_df['Fare'], kde=True)\n",
    "plt.title('Distribuição de Fare')\n",
    "\n",
    "plt.show()\n"
   ]
  },
  {
   "cell_type": "markdown",
   "metadata": {},
   "source": [
    "É possível notar uma assimetria a direita para a coluna `Fare`. Há bons indícios de que teremos outliers, conforme abaixo, e isso poderá impactar na forma como passamos ao modelo. Apesar de ser bom remover outliers, não são quantidades significativas e os dados disponíveis para treinamento já não são muitos; podemos realizar uma tratagem no pré processamento, normalizando-os. No entanto, ao olhar para `Age`, a coluna está bem distribuída e assumimos que não vai demonstrar grandes variações de valores que afetem o treinamento do modelo."
   ]
  },
  {
   "cell_type": "code",
   "execution_count": 23,
   "metadata": {},
   "outputs": [
    {
     "data": {
      "image/png": "[encoded data removed]",
      "text/plain": [
       "<Figure size 800x600 with 1 Axes>"
      ]
     },
     "metadata": {},
     "output_type": "display_data"
    }
   ],
   "source": [
    "plt.figure(figsize=(8, 6))\n",
    "sns.boxplot(data=train_df[['Age', 'Fare']])\n",
    "plt.title('Boxplot de Variáveis Numéricas')\n",
    "plt.show()\n"
   ]
  },
  {
   "cell_type": "markdown",
   "metadata": {},
   "source": [
    "<a id=\"5\"></a>\n",
    "## 5 - Pré-Processamento\n",
    "\n",
    "#### Tomando os dummies para as variáveis categóricas\n",
    "\n",
    "\n",
    "\n",
    "### Entendendo as Variáveis\n",
    "\n",
    "Para entender melhor as variáveis do Titanic Dataset, vejamos algumas descrições detalhadas:\n",
    "\n",
    "- **Survived**: Esta é a variável dependente ou alvo do nosso modelo. Ela indica a sobrevivência do passageiro, sendo 1 para sobreviventes e 0 para não sobreviventes. Trata-se de uma variável binária e nominal.\n",
    "- **PassengerID** e **Ticket**: São identificadores únicos para cada passageiro, assumidos como aleatórios e sem impacto direto na sobrevivência.\n",
    "- **Pclass**: Representa a classe do ticket, que é um dado ordinal e serve como um proxy para o status socioeconômico do passageiro. A classe 1 representa a classe alta, 2 a classe média e 3 a classe baixa.\n",
    "- **Name**: Nome do passageiro, uma variável nominal. Ela pode ser usada para engenharia de atributos, derivando informações como gênero (a partir do título), tamanho da família (a partir do sobrenome), e status socioeconômico (a partir de títulos como \"Dr.\" ou \"Master\").\n",
    "- **Sex** e **Embarked**: Variáveis nominais que indicam o sexo do passageiro e o porto de embarque.\n",
    "- **Age** e **Fare**: Variáveis quantitativas contínuas, representando a idade do passageiro e o preço do ticket, respectivamente.\n",
    "- **SibSp** e **Parch**: Representam o número de irmãos/cônjuges e pais/filhos a bordo, respectivamente.\n",
    "- **Cabin**: Indica a cabine do passageiro, uma variável nominal que pode ser usada para inferir a posição aproximada no navio e até mesmo o status socioeconômico, com base no nível do deck."
   ]
  },
  {
   "cell_type": "code",
   "execution_count": 24,
   "metadata": {},
   "outputs": [
    {
     "data": {
      "text/plain": [
       "((891, 7), (891,), (418, 7), (418,))"
      ]
     },
     "execution_count": 24,
     "metadata": {},
     "output_type": "execute_result"
    }
   ],
   "source": [
    "from sklearn.pipeline import Pipeline\n",
    "from sklearn.compose import ColumnTransformer\n",
    "from sklearn.impute import SimpleImputer\n",
    "from sklearn.preprocessing import StandardScaler, OneHotEncoder, FunctionTransformer\n",
    "\n",
    "# Definições das colunas\n",
    "numeric_features = ['Age', 'Fare']\n",
    "categorical_features = ['Sex', 'Embarked', 'Pclass']\n",
    "discrete_features = ['SibSp', 'Parch']\n",
    "\n",
    "# Transformações\n",
    "numeric_transformer = Pipeline(steps=[\n",
    "    ('scaler', StandardScaler())\n",
    "])\n",
    "\n",
    "categorical_transformer = Pipeline(steps=[\n",
    "    ('encoder', OneHotEncoder(handle_unknown='ignore'))\n",
    "])\n",
    "\n",
    "discrete_transformer = Pipeline(steps=[\n",
    "    ('imputer', SimpleImputer(strategy='constant', fill_value=0)),\n",
    "    # Pode escalar também se quiser:\n",
    "    ('scaler', StandardScaler())\n",
    "])\n",
    "\n",
    "# Pipeline combinada\n",
    "preprocessor = ColumnTransformer(\n",
    "    transformers=[\n",
    "        ('num', numeric_transformer, numeric_features),\n",
    "        ('cat', categorical_transformer, categorical_features),\n",
    "        ('disc', discrete_transformer, discrete_features)\n",
    "    ]\n",
    ")\n",
    "\n",
    "X_train = train_df.drop(\"Survived\", axis=1)\n",
    "Y_train = train_df[\"Survived\"]\n",
    "X_test  = test_df.drop(\"Survived\", axis=1)\n",
    "Y_test  = test_df[\"Survived\"]\n",
    "X_train.shape, Y_train.shape, X_test.shape, Y_test.shape"
   ]
  },
  {
   "cell_type": "markdown",
   "metadata": {},
   "source": [
    "<a id=\"6\"></a>\n",
    "## 6 - Treinamento e Avaliação\n",
    "\n",
    "### O que é uma Regressão Logística?\n",
    "\n",
    "A regressão logística é um modelo estatístico amplamente utilizado para resolver problemas de **classificação binária**. Diferentemente da **regressão linear**, cujo objetivo é prever um valor contínuo, a regressão logística busca prever a probabilidade de uma instância pertencer a uma determinada classe (por exemplo, 0 ou 1, sobrevivência ou não sobrevivência). \n",
    "\n",
    "Para isso, a regressão logística utiliza uma função não-linear chamada **sigmoide**, que mapeia valores reais para um intervalo entre 0 e 1, tornando-a ideal para problemas de classificação.\n",
    "\n",
    "#### A Função Sigmoide\n",
    "\n",
    "A função sigmoide é definida como:\n",
    "\n",
    "$$\n",
    "g(z) = \\frac{1}{1 + e^{-z}}\n",
    "$$\n",
    "\n",
    "onde $z$ é o valor linear da combinação dos atributos e dos pesos, dado por:\n",
    "\n",
    "$$\n",
    "z = \\theta_0 + \\theta_1 x_1 + \\theta_2 x_2 + \\dots + \\theta_n x_n = \\vec{X} \\cdot \\vec{\\theta}\n",
    "$$\n",
    "\n",
    "A função sigmoide transforma o valor linear $z$ em uma probabilidade, $g(z)$, que varia entre 0 e 1. Podemos interpretar essa probabilidade como a chance da instância pertencer à classe 1.\n",
    "\n",
    "Ao treinar um modelo de regressão logística, precisamos de uma métrica que indique o quão bem o modelo se ajusta aos dados. Para isso, utilizamos a **função de perda** (loss function) para medir o erro de uma única amostra, e a **função de custo** (cost function) para calcular o erro médio de todo o conjunto de dados.\n",
    "\n",
    "### Função de Perda (Loss Function)\n",
    "\n",
    "A função de perda mede o erro de predição para uma única instância. No caso da regressão logística, a perda $ L(\\theta; x^{(i)}, y^{(i)}) $ é dada pela **Binary Cross-Entropy** para cada exemplo $ i $:\n",
    "\n",
    "$$\n",
    "L(\\theta; x^{(i)}, y^{(i)}) = - \\left[ y^{(i)} \\log(h_\\theta(x^{(i)})) + (1 - y^{(i)}) \\log(1 - h_\\theta(x^{(i)})) \\right]\n",
    "$$\n",
    "\n",
    "onde:\n",
    "- $ h_\\theta(x^{(i)}) $ é a previsão do modelo para a amostra $ i $, dada pela função sigmoide $ g(z) $,\n",
    "- $ y^{(i)} $ é o valor verdadeiro da amostra $ i $ (0 ou 1).\n",
    "\n",
    "Essa função de perda é configurada para penalizar previsões incorretas de maneira assimétrica, de forma que a perda é maior quando a predição está mais distante do valor verdadeiro.\n",
    "\n",
    "### Função de Custo (Cost Function)\n",
    "\n",
    "A função de custo para a regressão logística, denotada por $ J(\\theta) $, é a média das perdas para todas as amostras no conjunto de dados. Isso nos dá uma medida geral do desempenho do modelo em relação a todo o conjunto de treino. Ela é definida como:\n",
    "\n",
    "$$\n",
    "J(\\vec{\\theta}) = \\frac{1}{m} \\sum_{i=1}^{m} L(\\theta; x^{(i)}, y^{(i)}) = - \\frac{1}{m} \\sum_{i=1}^{m} \\left[ y^{(i)} \\log(h_\\theta(x^{(i)})) + (1 - y^{(i)}) \\log(1 - h_\\theta(x^{(i)})) \\right]\n",
    "$$\n",
    "\n",
    "onde:\n",
    "- $ m $ é o número total de amostras no conjunto de treino.\n",
    "\n",
    "A função de custo $ J(\\theta) $ representa o erro médio do modelo. Durante o treinamento, queremos encontrar os valores dos parâmetros $ \\theta $ que minimizam essa função de custo, ou seja, que resultam no menor erro médio de previsão.\n",
    "\n",
    "### Intuição sobre a Função de Perda e a Função de Custo\n",
    "\n",
    "- **Função de Perda**: Calcula o erro para uma única amostra. Quanto maior o erro, maior será a perda associada a essa amostra.\n",
    "- **Função de Custo**: Calcula o erro médio para todas as amostras no conjunto de treino. Minimizar essa função implica ajustar os parâmetros $ \\theta $ para que o modelo produza previsões mais precisas para o conjunto de dados como um todo.\n",
    "\n",
    "Assim, o objetivo do treinamento é **minimizar a função de custo** $ J(\\theta) $ para encontrar os parâmetros ótimos que reduzem a perda média. Isso é feito com algoritmos de otimização, como o **Gradiente Descendente**.\n",
    "\n",
    "#### Gradiente e Otimização\n",
    "\n",
    "Para encontrar os parâmetros $ \\vec{\\theta} $ que minimizam a função de custo $ J(\\vec{\\theta}) $, usamos o **Gradiente Descendente**. O gradiente da função de custo em relação a cada parâmetro $ \\theta_j $ é dado por:\n",
    "\n",
    "$$\n",
    "\\frac{\\partial J(\\vec{\\theta})}{\\partial \\theta_j} = \\frac{1}{m} \\sum_{i=1}^{m} \\left( h_\\theta(x^{(i)}) - y^{(i)} \\right) x_j^{(i)}\n",
    "$$\n",
    "\n",
    "Com o gradiente, atualizamos os parâmetros $ \\vec{\\theta} $ de acordo com a seguinte regra:\n",
    "\n",
    "$$\n",
    "\\theta_j := \\theta_j - \\alpha \\frac{\\partial J(\\vec{\\theta})}{\\partial \\theta_j}\n",
    "$$\n",
    "\n",
    "onde $ \\alpha $ é a **taxa de aprendizado** (learning rate) que controla o tamanho do passo em cada iteração.\n",
    "\n",
    "#### Limite de Decisão (Decision Boundary)\n",
    "\n",
    "Após o treinamento, o modelo calcula uma probabilidade para cada instância. Para tomar decisões de classificação, utilizamos um **limite de decisão**. No caso binário, se a probabilidade prevista $ h_\\theta(x) $ for maior ou igual a 0.5, classificamos a instância como classe 1. Caso contrário, classificamos como classe 0. Assim:\n",
    "\n",
    "$$\n",
    "\\hat{y} = \n",
    "\\begin{cases} \n",
    "1 & \\text{se } h_\\theta(x) \\geq 0.5 \\\\\n",
    "0 & \\text{se } h_\\theta(x) < 0.5 \n",
    "\\end{cases}\n",
    "$$\n",
    "\n",
    "\n"
   ]
  },
  {
   "cell_type": "code",
   "execution_count": 25,
   "metadata": {},
   "outputs": [],
   "source": [
    "from sklearn.ensemble import RandomForestClassifier\n",
    "from sklearn.pipeline import make_pipeline\n",
    "\n",
    "# Monta pipeline completa com modelo\n",
    "model = make_pipeline(preprocessor, LogisticRegression(solver='liblinear')) #RandomForestClassifier(n_estimators=100, random_state=42))\n",
    "\n",
    "# Treina\n",
    "model.fit(X_train, Y_train)\n",
    "\n",
    "# Prediz\n",
    "Y_pred = model.predict(X_test)"
   ]
  },
  {
   "cell_type": "code",
   "execution_count": 26,
   "metadata": {},
   "outputs": [
    {
     "name": "stdout",
     "output_type": "stream",
     "text": [
      "              Not Survived  Survived\n",
      "Not Survived           254        12\n",
      "Survived                10       142\n",
      "------------------------------\n"
     ]
    },
    {
     "data": {
      "image/png": "[encoded data removed]",
      "text/plain": [
       "<Figure size 600x400 with 1 Axes>"
      ]
     },
     "metadata": {},
     "output_type": "display_data"
    }
   ],
   "source": [
    "# Confunsion Matrix\n",
    "from sklearn.metrics import confusion_matrix\n",
    "from sklearn.metrics import classification_report\n",
    "import seaborn as sns\n",
    "\n",
    "# Criando a matriz de confusão\n",
    "cm = confusion_matrix(Y_test, Y_pred)\n",
    "cm_df = pd.DataFrame(cm, index=['Not Survived', 'Survived'], columns=['Not Survived', 'Survived'])\n",
    "\n",
    "# Exibindo a matriz no terminal\n",
    "print(cm_df)\n",
    "print(\"-\"*30)\n",
    "\n",
    "# Visualizando com seaborn\n",
    "plt.figure(figsize=(6, 4))\n",
    "sns.heatmap(cm_df, annot=True, fmt='d', cmap='Blues', cbar=False)\n",
    "plt.xlabel('Predicted')\n",
    "plt.ylabel('Actual')\n",
    "plt.title('Confusion Matrix')\n",
    "plt.tight_layout()\n",
    "plt.show()"
   ]
  },
  {
   "cell_type": "markdown",
   "metadata": {},
   "source": [
    "## Métricas \n",
    "\n",
    "### 🎯 Avaliação de Modelos de Classificação Binária\n",
    "\n",
    "Ao treinar um modelo de classificação binária, é essencial avaliar sua performance de maneira completa. Para isso, utilizamos métricas baseadas na **matriz de confusão**, que nos permite entender como o modelo está classificando exemplos positivos e negativos.\n",
    "\n",
    "### 📌 Matriz de Confusão\n",
    "\n",
    "A matriz de confusão é uma tabela que resume as predições feitas por um modelo de classificação:\n",
    "\n",
    "|                   | Previsto Positivo | Previsto Negativo |\n",
    "|-------------------|-------------------|-------------------|\n",
    "| **Real Positivo** | Verdadeiro Positivo (TP) | Falso Negativo (FN) |\n",
    "| **Real Negativo** | Falso Positivo (FP) | Verdadeiro Negativo (TN) |\n",
    "\n",
    "Esses quatro valores são a base para as principais métricas:\n",
    "\n",
    "### 📐 Métricas Derivadas da Matriz de Confusão\n",
    "\n",
    "- **Acurácia (Accuracy)**: Proporção de previsões corretas.\n",
    "  $$\n",
    "  \\text{Acurácia} = \\frac{TP + TN}{TP + TN + FP + FN}\n",
    "  $$\n",
    "\n",
    "- **Precisão (Precision)**: Entre as predições positivas, quantas realmente são positivas?\n",
    "  $$\n",
    "  \\text{Precisão} = \\frac{TP}{TP + FP}\n",
    "  $$\n",
    "\n",
    "- **Revocação / Sensibilidade (Recall / Sensitivity)**: Entre os exemplos positivos reais, quantos foram corretamente classificados?\n",
    "  $$\n",
    "  \\text{Recall} = \\frac{TP}{TP + FN}\n",
    "  $$\n",
    "\n",
    "- **F1-Score**: Média harmônica entre precisão e recall.\n",
    "  $$\n",
    "  F1 = 2 \\cdot \\frac{\\text{Precisão} \\cdot \\text{Recall}}{\\text{Precisão} + \\text{Recall}}\n",
    "  $$\n",
    "\n",
    "\n",
    "Estas métricas devem ser analisadas em conjunto para entender o desempenho real do modelo, especialmente em datasets desbalanceados.\n"
   ]
  },
  {
   "cell_type": "code",
   "execution_count": 27,
   "metadata": {},
   "outputs": [
    {
     "name": "stdout",
     "output_type": "stream",
     "text": [
      "              precision    recall  f1-score   support\n",
      "\n",
      "Not Survived       0.96      0.95      0.96       266\n",
      "    Survived       0.92      0.93      0.93       152\n",
      "\n",
      "    accuracy                           0.95       418\n",
      "   macro avg       0.94      0.94      0.94       418\n",
      "weighted avg       0.95      0.95      0.95       418\n",
      "\n"
     ]
    }
   ],
   "source": [
    "report = classification_report(Y_test, Y_pred, target_names=['Not Survived', 'Survived'])\n",
    "print(report)"
   ]
  },
  {
   "cell_type": "code",
   "execution_count": 28,
   "metadata": {},
   "outputs": [
    {
     "name": "stdout",
     "output_type": "stream",
     "text": [
      "              precision    recall  f1-score   support\n",
      "\n",
      "Not Survived       0.82      0.87      0.85       549\n",
      "    Survived       0.77      0.70      0.74       342\n",
      "\n",
      "    accuracy                           0.81       891\n",
      "   macro avg       0.80      0.79      0.79       891\n",
      "weighted avg       0.80      0.81      0.80       891\n",
      "\n"
     ]
    }
   ],
   "source": [
    "report = classification_report(Y_train, model.predict(X_train), target_names=['Not Survived', 'Survived'])\n",
    "print(report)"
   ]
  }
 ],
 "metadata": {
  "kernelspec": {
   "display_name": "env",
   "language": "python",
   "name": "python3"
  },
  "language_info": {
   "codemirror_mode": {
    "name": "ipython",
    "version": 3
   },
   "file_extension": ".py",
   "mimetype": "text/x-python",
   "name": "python",
   "nbconvert_exporter": "python",
   "pygments_lexer": "ipython3",
   "version": "3.10.11"
  }
 },
 "nbformat": 4,
 "nbformat_minor": 2
}
